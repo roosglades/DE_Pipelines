{
 "cells": [
  {
   "cell_type": "code",
   "execution_count": 1,
   "metadata": {},
   "outputs": [],
   "source": [
    "\n",
    "import os\n",
    "import sys\n",
    "# Set JAVA env variable\n",
    "os.environ[\"JAVA_HOME\"] = r\"C:\\Program Files\\Eclipse Adoptium\\jdk-11.0.26.4-hotspot\"\n",
    "# Set Hadoop environment variables \n",
    "os.environ['HADOOP_HOME'] = r'C:\\hadoop'\n",
    "os.environ['PATH'] = os.environ['HADOOP_HOME'] + r'\\bin;' + os.environ['PATH']\n",
    "# Set the Python executable path explicitly\n",
    "os.environ['PYSPARK_PYTHON'] = sys.executable\n",
    "os.environ['PYSPARK_DRIVER_PYTHON'] = sys.executable"
   ]
  },
  {
   "cell_type": "code",
   "execution_count": 2,
   "metadata": {},
   "outputs": [],
   "source": [
    "import numpy as np\n",
    "import pandas as pd\n",
    "\n",
    "\n",
    "from pyspark.sql import SparkSession\n",
    "from pyspark.sql import functions as F\n",
    "from pyspark.sql.types import (StructType, StructField, StringType, \n",
    "                            DoubleType, IntegerType, TimestampType, \n",
    "                            DateType)\n",
    "from delta.tables import DeltaTable\n",
    "import time\n",
    "import logging\n",
    "import os\n",
    "from datetime import datetime"
   ]
  },
  {
   "cell_type": "code",
   "execution_count": null,
   "metadata": {},
   "outputs": [],
   "source": [
    "# Configure logging\n",
    "logging.basicConfig(level=logging.INFO, format='%(asctime)s - %(levelname)s - %(message)s')\n",
    "logger = logging.getLogger(__name__)"
   ]
  },
  {
   "cell_type": "code",
   "execution_count": 4,
   "metadata": {},
   "outputs": [],
   "source": [
    "from de_tools import *"
   ]
  },
  {
   "cell_type": "code",
   "execution_count": 5,
   "metadata": {},
   "outputs": [
    {
     "name": "stderr",
     "output_type": "stream",
     "text": [
      "2025-04-08 12:57:52,219 - INFO - Spark session initialized with Delta Lake support\n"
     ]
    }
   ],
   "source": [
    "spark = initialize_spark()"
   ]
  },
  {
   "cell_type": "code",
   "execution_count": 6,
   "metadata": {},
   "outputs": [],
   "source": [
    "data_dir = \"../../data\"\n",
    "\n",
    "source_path     = f\"{data_dir}/financial_transactions.csv\"\n",
    "bronze_dir      = f\"{data_dir}/bronze/financial_osb\"\n",
    "silver_dir      = f\"{data_dir}/silver/financial_osb\"\n",
    "gold_dir        = f\"{data_dir}/gold/financial_osb\"\n",
    "\n",
    "# Create directories if they don't exist\n",
    "for dir_path in [bronze_dir, silver_dir, gold_dir]:\n",
    "    os.makedirs(dir_path, exist_ok=True)\n",
    "\n",
    "source_path  = os.path.abspath(os.path.join(os.getcwd(), *source_path.split('/')))\n",
    "bronze_path  = os.path.abspath(os.path.join(os.getcwd(), *bronze_dir.split('/')))\n",
    "silver_path  = os.path.abspath(os.path.join(os.getcwd(), *silver_dir.split('/')))\n",
    "gold_path    = os.path.abspath(os.path.join(os.getcwd(), *gold_dir.split('/')))\n",
    "\n",
    "\n",
    "# Run the pipeline\n",
    "# result = run_financial_pipeline(SOURCE_PATH, BRONZE_PATH, SILVER_PATH, GOLD_PATH)\n",
    "# print(f\"Pipeline result: {result}\")"
   ]
  },
  {
   "cell_type": "code",
   "execution_count": 7,
   "metadata": {},
   "outputs": [
    {
     "data": {
      "text/plain": [
       "'c:\\\\GitHub\\\\DE_Pipelines\\\\data\\\\bronze\\\\financial_osb'"
      ]
     },
     "execution_count": 7,
     "metadata": {},
     "output_type": "execute_result"
    }
   ],
   "source": [
    "bronze_path"
   ]
  },
  {
   "cell_type": "code",
   "execution_count": 8,
   "metadata": {},
   "outputs": [],
   "source": [
    "def get_schema():\n",
    "    return StructType([\n",
    "        StructField(\"transaction_id\", StringType(), True),\n",
    "        StructField(\"timestamp\", StringType(), True), # need to process as StringType and convert to Timestamp\n",
    "        StructField(\"customer_id\", StringType(), True),\n",
    "        StructField(\"account_number\", StringType(), True),\n",
    "        StructField(\"transaction_type\", StringType(), True),\n",
    "        StructField(\"amount\", DoubleType(), True),\n",
    "        StructField(\"currency\", StringType(), True),\n",
    "        StructField(\"balance_after\", DoubleType(), True),\n",
    "        StructField(\"status\", StringType(), True),\n",
    "        StructField(\"merchant\", StringType(), True),\n",
    "        StructField(\"category\", StringType(), True),\n",
    "        StructField(\"location\", StringType(), True)\n",
    "    ])"
   ]
  },
  {
   "cell_type": "code",
   "execution_count": 9,
   "metadata": {},
   "outputs": [
    {
     "name": "stderr",
     "output_type": "stream",
     "text": [
      "2025-04-08 12:58:03,499 - INFO - Spark session initialized with Delta Lake support\n",
      "2025-04-08 12:58:05,760 - INFO - Starting data pipeline execution with ID: Financial_Data_Pipeline_20250408_125805\n",
      "2025-04-08 12:58:05,762 - INFO - Starting bronze layer processing for c:\\GitHub\\DE_Pipelines\\data\\financial_transactions.csv\n",
      "2025-04-08 12:58:08,768 - INFO - Successfully read CSV data from c:\\GitHub\\DE_Pipelines\\data\\financial_transactions.csv\n",
      "2025-04-08 12:58:39,393 - INFO - Successfully wrote data to bronze layer at c:\\GitHub\\DE_Pipelines\\data\\bronze\\financial_osb\n",
      "2025-04-08 12:58:40,728 - INFO - Running data quality checks for bronze layer\n",
      "2025-04-08 12:58:42,191 - INFO - Data Quality Metrics for bronze layer:\n",
      "2025-04-08 12:58:42,193 - INFO -   - Column Count: 15\n",
      "2025-04-08 12:58:42,196 - INFO -   - Columns: ['transaction_id', 'transaction_timestamp', 'customer_id', 'account_number', 'transaction_type', 'amount', 'currency', 'balance_after', 'status', 'merchant', 'category', 'location', 'ingestion_timestamp', 'source_file', 'batch_id']\n",
      "2025-04-08 12:58:42,199 - INFO -   - Sample size: 316\n",
      "2025-04-08 12:58:42,201 - WARNING -   - Columns with high null percentages: {'merchant': 44.936708860759495, 'category': 44.936708860759495}\n",
      "2025-04-08 12:58:42,204 - INFO - Validating dataframe with 3 rules\n",
      "2025-04-08 12:58:43,716 - INFO - Validation rule 'has_transaction_id' FAILED - 9 records (2.85%) failed\n",
      "2025-04-08 12:58:44,206 - INFO - Validation rule 'valid_amount' FAILED - 184 records (58.23%) failed\n",
      "2025-04-08 12:58:44,723 - INFO - Validation rule 'valid_transaction_timestamp' PASSED - 0 records (0.00%) failed\n",
      "2025-04-08 12:58:44,728 - INFO - Checkpoint created: {'pipeline_id': 'Financial_Data_Pipeline_20250408_125805', 'layer': 'bronze', 'version': 12, 'timestamp': '2025-04-08T12:58:44.728853', 'metadata': {'quality_metrics': {'layer': 'bronze', 'columns': ['transaction_id', 'transaction_timestamp', 'customer_id', 'account_number', 'transaction_type', 'amount', 'currency', 'balance_after', 'status', 'merchant', 'category', 'location', 'ingestion_timestamp', 'source_file', 'batch_id'], 'sample_size': 316, 'column_count': 15, 'null_percentages': {'transaction_id': 2.848101265822785, 'transaction_timestamp': 2.2151898734177213, 'customer_id': 0.949367088607595, 'account_number': 0.949367088607595, 'transaction_type': 2.5316455696202533, 'amount': 1.5822784810126582, 'currency': 1.5822784810126582, 'balance_after': 1.2658227848101267, 'status': 1.2658227848101267, 'merchant': 44.936708860759495, 'category': 44.936708860759495, 'location': 1.2658227848101267, 'ingestion_timestamp': 0.0, 'source_file': 0.0, 'batch_id': 0.0}, 'high_null_columns': {'merchant': 44.936708860759495, 'category': 44.936708860759495}, 'sample_ratio': 0.2, 'timestamp': '2025-04-08T12:58:42.191959'}, 'validation_results': {'validation_results': {'has_transaction_id': {'description': 'Transaction ID must be present', 'failing_count': 9, 'failing_percentage': 2.848101265822785, 'passed': False}, 'valid_amount': {'description': 'Amount must be positive if not null', 'failing_count': 184, 'failing_percentage': 58.22784810126582, 'passed': False}, 'valid_transaction_timestamp': {'description': 'Transaction Timestamp must not be in the future', 'failing_count': 0, 'failing_percentage': 0.0, 'passed': True}}, 'sample_size': 316, 'sample_ratio': 0.2, 'timestamp': '2025-04-08T12:58:44.728853', 'all_passed': False}, 'source_path': 'c:\\\\GitHub\\\\DE_Pipelines\\\\data\\\\financial_transactions.csv', 'duration_seconds': 38.96499443054199}}\n",
      "2025-04-08 12:58:44,730 - INFO - Bronze layer processing completed in 38.97 seconds\n",
      "2025-04-08 12:58:44,731 - INFO - Bronze layer processed successfully in 38.97 seconds\n",
      "2025-04-08 12:58:44,734 - INFO - Starting table optimization\n",
      "2025-04-08 12:58:50,690 - INFO - Optimized c:\\GitHub\\DE_Pipelines\\data\\bronze\\financial_osb. Files: before=1, after=1\n",
      "2025-04-08 12:58:50,692 - INFO - Table optimization completed\n",
      "2025-04-08 12:58:50,695 - INFO - Bronze layer successfully optimized in 5.96 seconds\n",
      "2025-04-08 12:58:50,697 - INFO - Starting silver layer processing\n",
      "2025-04-08 12:58:50,802 - INFO - Successfully read bronze data version 12\n",
      "2025-04-08 12:59:05,241 - INFO - Successfully wrote data to silver layer at c:\\GitHub\\DE_Pipelines\\data\\silver\\financial_osb\n",
      "2025-04-08 12:59:05,783 - INFO - Running data quality checks for silver layer\n",
      "2025-04-08 12:59:11,916 - INFO - Data Quality Metrics for silver layer:\n",
      "2025-04-08 12:59:11,918 - INFO -   - Column Count: 19\n",
      "2025-04-08 12:59:11,919 - INFO -   - Columns: ['transaction_id', 'transaction_timestamp', 'customer_id', 'account_number', 'transaction_type', 'amount', 'currency', 'balance_after', 'status', 'merchant', 'category', 'location', 'ingestion_timestamp', 'source_file', 'batch_id', 'transaction_date', 'transaction_time', 'year_month', 'processing_timestamp']\n",
      "2025-04-08 12:59:11,922 - INFO -   - Sample size: 283\n",
      "2025-04-08 12:59:11,924 - WARNING -   - Columns with high null percentages: {'merchant': 42.75618374558304, 'category': 42.40282685512368}\n",
      "2025-04-08 12:59:11,926 - INFO - Validating dataframe with 3 rules\n",
      "2025-04-08 12:59:17,060 - INFO - Validation rule 'valid_transaction_type' FAILED - 117 records (41.34%) failed\n",
      "2025-04-08 12:59:17,500 - INFO - Validation rule 'valid_status' FAILED - 115 records (40.64%) failed\n",
      "2025-04-08 12:59:17,993 - INFO - Validation rule 'valid_currency' PASSED - 0 records (0.00%) failed\n",
      "2025-04-08 12:59:17,998 - INFO - Checkpoint created: {'pipeline_id': 'Financial_Data_Pipeline_20250408_125805', 'layer': 'silver', 'version': 2, 'timestamp': '2025-04-08T12:59:17.998193', 'metadata': {'quality_metrics': {'layer': 'silver', 'columns': ['transaction_id', 'transaction_timestamp', 'customer_id', 'account_number', 'transaction_type', 'amount', 'currency', 'balance_after', 'status', 'merchant', 'category', 'location', 'ingestion_timestamp', 'source_file', 'batch_id', 'transaction_date', 'transaction_time', 'year_month', 'processing_timestamp'], 'sample_size': 283, 'column_count': 19, 'null_percentages': {'transaction_id': 0.0, 'transaction_timestamp': 2.8268551236749118, 'customer_id': 0.35335689045936397, 'account_number': 1.76678445229682, 'transaction_type': 0.35335689045936397, 'amount': 0.7067137809187279, 'currency': 1.4134275618374559, 'balance_after': 1.4134275618374559, 'status': 0.7067137809187279, 'merchant': 42.75618374558304, 'category': 42.40282685512368, 'location': 1.4134275618374559, 'ingestion_timestamp': 0.0, 'source_file': 0.0, 'batch_id': 0.0, 'transaction_date': 2.8268551236749118, 'transaction_time': 2.8268551236749118, 'year_month': 2.8268551236749118, 'processing_timestamp': 0.0}, 'high_null_columns': {'merchant': 42.75618374558304, 'category': 42.40282685512368}, 'sample_ratio': 0.2, 'timestamp': '2025-04-08T12:59:11.916461'}, 'validation_results': {'validation_results': {'valid_transaction_type': {'description': 'Transaction type must be one of the valid types', 'failing_count': 117, 'failing_percentage': 41.342756183745585, 'passed': False}, 'valid_status': {'description': 'Status must be one of the valid statuses', 'failing_count': 115, 'failing_percentage': 40.63604240282685, 'passed': False}, 'valid_currency': {'description': 'Currency code should be 3 characters if present', 'failing_count': 0, 'failing_percentage': 0.0, 'passed': True}}, 'sample_size': 283, 'sample_ratio': 0.2, 'timestamp': '2025-04-08T12:59:17.998193', 'all_passed': False}, 'source_bronze_version': 12, 'duration_seconds': 27.29926371574402}}\n",
      "2025-04-08 12:59:18,000 - INFO - Silver layer processing completed in 27.30 seconds\n",
      "2025-04-08 12:59:18,002 - INFO - Silver layer processed successfully in 27.30 seconds\n",
      "2025-04-08 12:59:18,005 - INFO - Starting table optimization\n",
      "2025-04-08 12:59:32,800 - INFO - Optimized c:\\GitHub\\DE_Pipelines\\data\\silver\\financial_osb. Files: before=13, after=13\n",
      "2025-04-08 12:59:32,801 - INFO - Table optimization completed\n",
      "2025-04-08 12:59:32,803 - INFO - Silver layer successfully optimized in 14.80 seconds\n",
      "2025-04-08 12:59:32,806 - INFO - Starting gold layer processing\n",
      "2025-04-08 12:59:33,047 - INFO - Successfully read silver data version 2\n",
      "2025-04-08 12:59:45,327 - INFO - Successfully wrote gold table daily_category to c:\\GitHub\\DE_Pipelines\\data\\gold\\financial_osb/daily_category\n",
      "2025-04-08 12:59:45,907 - INFO - Running data quality checks for gold_daily_category layer\n",
      "2025-04-08 12:59:50,661 - INFO - Data Quality Metrics for gold_daily_category layer:\n",
      "2025-04-08 12:59:50,663 - INFO -   - Column Count: 9\n",
      "2025-04-08 12:59:50,664 - INFO -   - Columns: ['transaction_date', 'category', 'transaction_count', 'total_amount', 'avg_amount', 'min_amount', 'max_amount', 'unique_customers', 'processing_timestamp']\n",
      "2025-04-08 12:59:50,667 - INFO -   - Sample size: 521\n",
      "2025-04-08 12:59:50,669 - WARNING -   - Columns with high null percentages: {'category': 29.366602687140116}\n",
      "2025-04-08 12:59:50,670 - INFO - Validating dataframe with 2 rules\n",
      "2025-04-08 12:59:55,021 - INFO - Validation rule 'positive_transaction_counts' PASSED - 0 records (0.00%) failed\n",
      "2025-04-08 12:59:55,366 - INFO - Validation rule 'valid_total_amounts' PASSED - 0 records (0.00%) failed\n",
      "2025-04-08 12:59:55,370 - INFO - Checkpoint created: {'pipeline_id': 'Financial_Data_Pipeline_20250408_125805', 'layer': 'gold_daily_category', 'version': 1, 'timestamp': '2025-04-08T12:59:55.370159', 'metadata': {'quality_metrics': {'layer': 'gold_daily_category', 'columns': ['transaction_date', 'category', 'transaction_count', 'total_amount', 'avg_amount', 'min_amount', 'max_amount', 'unique_customers', 'processing_timestamp'], 'sample_size': 521, 'column_count': 9, 'null_percentages': {'transaction_date': 0.5758157389635317, 'category': 29.366602687140116, 'transaction_count': 0.0, 'total_amount': 1.1516314779270633, 'avg_amount': 1.1516314779270633, 'min_amount': 1.1516314779270633, 'max_amount': 1.1516314779270633, 'unique_customers': 0.0, 'processing_timestamp': 0.0}, 'high_null_columns': {'category': 29.366602687140116}, 'sample_ratio': 0.5, 'timestamp': '2025-04-08T12:59:50.661926'}, 'validation_results': {'validation_results': {'positive_transaction_counts': {'description': 'Transaction counts should be positive', 'failing_count': 0, 'failing_percentage': 0.0, 'passed': True}, 'valid_total_amounts': {'description': 'Total amounts should not be negative', 'failing_count': 0, 'failing_percentage': 0.0, 'passed': True}}, 'sample_size': 521, 'sample_ratio': 0.5, 'timestamp': '2025-04-08T12:59:55.370159', 'all_passed': True}, 'source_silver_version': 2}}\n",
      "2025-04-08 13:00:03,228 - INFO - Successfully wrote gold table customer_summary to c:\\GitHub\\DE_Pipelines\\data\\gold\\financial_osb/customer_summary\n",
      "2025-04-08 13:00:03,535 - INFO - Running data quality checks for gold_customer_summary layer\n",
      "2025-04-08 13:00:13,077 - INFO - Data Quality Metrics for gold_customer_summary layer:\n",
      "2025-04-08 13:00:13,079 - INFO -   - Column Count: 9\n",
      "2025-04-08 13:00:13,080 - INFO -   - Columns: ['customer_id', 'transaction_count', 'total_amount', 'avg_amount', 'first_transaction_date', 'last_transaction_date', 'category_count', 'processing_timestamp', 'days_since_last_transaction']\n",
      "2025-04-08 13:00:13,081 - INFO -   - Sample size: 124\n",
      "2025-04-08 13:00:13,083 - INFO - Validating dataframe with 2 rules\n",
      "2025-04-08 13:00:21,621 - INFO - Validation rule 'positive_transaction_counts' PASSED - 0 records (0.00%) failed\n",
      "2025-04-08 13:00:25,297 - INFO - Validation rule 'valid_total_amounts' PASSED - 0 records (0.00%) failed\n",
      "2025-04-08 13:00:25,306 - INFO - Checkpoint created: {'pipeline_id': 'Financial_Data_Pipeline_20250408_125805', 'layer': 'gold_customer_summary', 'version': 1, 'timestamp': '2025-04-08T13:00:25.306449', 'metadata': {'quality_metrics': {'layer': 'gold_customer_summary', 'columns': ['customer_id', 'transaction_count', 'total_amount', 'avg_amount', 'first_transaction_date', 'last_transaction_date', 'category_count', 'processing_timestamp', 'days_since_last_transaction'], 'sample_size': 124, 'column_count': 9, 'null_percentages': {'customer_id': 0.8064516129032258, 'transaction_count': 0.0, 'total_amount': 1.6129032258064515, 'avg_amount': 1.6129032258064515, 'first_transaction_date': 0.0, 'last_transaction_date': 0.0, 'category_count': 0.0, 'processing_timestamp': 0.0, 'days_since_last_transaction': 0.0}, 'high_null_columns': {}, 'sample_ratio': 0.5, 'timestamp': '2025-04-08T13:00:13.077245'}, 'validation_results': {'validation_results': {'positive_transaction_counts': {'description': 'Transaction counts should be positive', 'failing_count': 0, 'failing_percentage': 0.0, 'passed': True}, 'valid_total_amounts': {'description': 'Total amounts should not be negative', 'failing_count': 0, 'failing_percentage': 0.0, 'passed': True}}, 'sample_size': 124, 'sample_ratio': 0.5, 'timestamp': '2025-04-08T13:00:25.306449', 'all_passed': True}, 'source_silver_version': 2}}\n",
      "2025-04-08 13:00:32,129 - INFO - Successfully wrote gold table transaction_type_summary to c:\\GitHub\\DE_Pipelines\\data\\gold\\financial_osb/transaction_type_summary\n",
      "2025-04-08 13:00:32,513 - INFO - Running data quality checks for gold_transaction_type_summary layer\n",
      "2025-04-08 13:00:38,522 - INFO - Data Quality Metrics for gold_transaction_type_summary layer:\n",
      "2025-04-08 13:00:38,524 - INFO -   - Column Count: 5\n",
      "2025-04-08 13:00:38,525 - INFO -   - Columns: ['transaction_type', 'transaction_count', 'total_amount', 'avg_amount', 'processing_timestamp']\n",
      "2025-04-08 13:00:38,527 - INFO -   - Sample size: 17\n",
      "2025-04-08 13:00:38,530 - WARNING -   - Columns with high null percentages: {'transaction_type': 5.88235294117647}\n",
      "2025-04-08 13:00:38,531 - INFO - Validating dataframe with 2 rules\n",
      "2025-04-08 13:00:44,789 - INFO - Validation rule 'positive_transaction_counts' PASSED - 0 records (0.00%) failed\n",
      "2025-04-08 13:00:47,976 - INFO - Validation rule 'valid_total_amounts' PASSED - 0 records (0.00%) failed\n",
      "2025-04-08 13:00:47,981 - INFO - Checkpoint created: {'pipeline_id': 'Financial_Data_Pipeline_20250408_125805', 'layer': 'gold_transaction_type_summary', 'version': 1, 'timestamp': '2025-04-08T13:00:47.981897', 'metadata': {'quality_metrics': {'layer': 'gold_transaction_type_summary', 'columns': ['transaction_type', 'transaction_count', 'total_amount', 'avg_amount', 'processing_timestamp'], 'sample_size': 17, 'column_count': 5, 'null_percentages': {'transaction_type': 5.88235294117647, 'transaction_count': 0.0, 'total_amount': 0.0, 'avg_amount': 0.0, 'processing_timestamp': 0.0}, 'high_null_columns': {'transaction_type': 5.88235294117647}, 'sample_ratio': 0.5, 'timestamp': '2025-04-08T13:00:38.522144'}, 'validation_results': {'validation_results': {'positive_transaction_counts': {'description': 'Transaction counts should be positive', 'failing_count': 0, 'failing_percentage': 0.0, 'passed': True}, 'valid_total_amounts': {'description': 'Total amounts should not be negative', 'failing_count': 0, 'failing_percentage': 0.0, 'passed': True}}, 'sample_size': 17, 'sample_ratio': 0.5, 'timestamp': '2025-04-08T13:00:47.981897', 'all_passed': True}, 'source_silver_version': 2}}\n",
      "2025-04-08 13:00:47,982 - INFO - Gold layer processing completed in 75.18 seconds\n",
      "2025-04-08 13:00:47,984 - INFO - Gold layer processed successfully in 75.18 seconds\n",
      "2025-04-08 13:00:47,986 - INFO - Starting table optimization\n",
      "2025-04-08 13:00:50,071 - INFO - Optimized c:\\GitHub\\DE_Pipelines\\data\\gold\\financial_osb/daily_category. Files: before=1, after=1\n",
      "2025-04-08 13:00:50,072 - INFO - Table optimization completed\n",
      "2025-04-08 13:00:50,074 - INFO - Starting table optimization\n",
      "2025-04-08 13:00:51,784 - INFO - Optimized c:\\GitHub\\DE_Pipelines\\data\\gold\\financial_osb/customer_summary. Files: before=1, after=1\n",
      "2025-04-08 13:00:51,786 - INFO - Table optimization completed\n",
      "2025-04-08 13:00:51,788 - INFO - Starting table optimization\n",
      "2025-04-08 13:00:53,727 - INFO - Optimized c:\\GitHub\\DE_Pipelines\\data\\gold\\financial_osb/transaction_type_summary. Files: before=1, after=1\n",
      "2025-04-08 13:00:53,729 - INFO - Table optimization completed\n",
      "2025-04-08 13:00:53,731 - INFO - Gold layer successfully optimized in 5.74 seconds\n",
      "2025-04-08 13:00:53,734 - INFO - Full pipeline execution completed successfully in 170.24 seconds\n",
      "2025-04-08 13:00:55,411 - INFO - Spark session stopped\n"
     ]
    },
    {
     "data": {
      "text/plain": [
       "{'status': 'success',\n",
       " 'pipeline_id': 'Financial_Data_Pipeline_20250408_125805',\n",
       " 'bronze_version': 12,\n",
       " 'silver_version': 2,\n",
       " 'timestamp': '2025-04-08T13:00:53.737987',\n",
       " 'duration_seconds': 170.23650288581848,\n",
       " 'metrics': {'pipeline_id': 'Financial_Data_Pipeline_20250408_125805',\n",
       "  'start_time': '2025-04-08T12:58:05.760857',\n",
       "  'stages': {'bronze': {'duration_seconds': 38.96899747848511,\n",
       "    'version': 12,\n",
       "    'status': 'success'},\n",
       "   'bronze_optimize': {'layer': 'bronze',\n",
       "    'duration_seconds': 5.960385322570801,\n",
       "    'status': 'success'},\n",
       "   'silver': {'duration_seconds': 27.304896116256714,\n",
       "    'version': 2,\n",
       "    'status': 'success',\n",
       "    'source_bronze_version': 12},\n",
       "   'silver_optimize': {'layer': 'bronze',\n",
       "    'duration_seconds': 14.798668146133423,\n",
       "    'status': 'success'},\n",
       "   'gold': {'duration_seconds': 75.17902708053589,\n",
       "    'status': 'success',\n",
       "    'source_silver_version': 2,\n",
       "    'tables': ['daily_category',\n",
       "     'customer_summary',\n",
       "     'transaction_type_summary']},\n",
       "   'gold_optimize': {'layer': 'gold',\n",
       "    'duration_seconds': 5.7445595264434814,\n",
       "    'status': 'success'}},\n",
       "  'status': 'success',\n",
       "  'end_time': '2025-04-08T13:00:53.734985',\n",
       "  'total_duration_seconds': 170.23650288581848}}"
      ]
     },
     "execution_count": 9,
     "metadata": {},
     "output_type": "execute_result"
    }
   ],
   "source": [
    "run_batch_de_pipeline(source_path, bronze_path, get_schema(), silver_path, gold_path, pipeline_name='Financial_Data_Pipeline')"
   ]
  },
  {
   "cell_type": "code",
   "execution_count": 10,
   "metadata": {},
   "outputs": [
    {
     "name": "stderr",
     "output_type": "stream",
     "text": [
      "2025-04-08 12:46:45,640 - INFO - Starting bronze layer processing for c:\\GitHub\\DE_Pipelines\\data\\financial_transactions.csv\n",
      "2025-04-08 12:46:49,827 - INFO - Successfully read CSV data from c:\\GitHub\\DE_Pipelines\\data\\financial_transactions.csv\n",
      "2025-04-08 12:47:19,593 - INFO - Successfully wrote data to bronze layer at c:\\GitHub\\DE_Pipelines\\data\\bronze\\financial_osb\n",
      "2025-04-08 12:47:21,263 - INFO - Running data quality checks for bronze layer\n",
      "2025-04-08 12:47:22,521 - INFO - Data Quality Metrics for bronze layer:\n",
      "2025-04-08 12:47:22,523 - INFO -   - Column Count: 15\n",
      "2025-04-08 12:47:22,525 - INFO -   - Columns: ['transaction_id', 'transaction_timestamp', 'customer_id', 'account_number', 'transaction_type', 'amount', 'currency', 'balance_after', 'status', 'merchant', 'category', 'location', 'ingestion_timestamp', 'source_file', 'batch_id']\n",
      "2025-04-08 12:47:22,527 - INFO -   - Sample size: 316\n",
      "2025-04-08 12:47:22,529 - WARNING -   - Columns with high null percentages: {'merchant': 44.936708860759495, 'category': 44.936708860759495}\n",
      "2025-04-08 12:47:22,538 - INFO - Validating dataframe with 3 rules\n",
      "2025-04-08 12:47:23,220 - INFO - Validation rule 'has_transaction_id' FAILED - 9 records (2.85%) failed\n",
      "2025-04-08 12:47:23,617 - INFO - Validation rule 'valid_amount' FAILED - 184 records (58.23%) failed\n",
      "2025-04-08 12:47:24,011 - INFO - Validation rule 'valid_transaction_timestamp' PASSED - 0 records (0.00%) failed\n",
      "2025-04-08 12:47:24,015 - INFO - Checkpoint created: {'pipeline_id': 'financial_pipeline_20250408_124645', 'layer': 'bronze', 'version': 11, 'timestamp': '2025-04-08T12:47:24.015499', 'metadata': {'quality_metrics': {'layer': 'bronze', 'columns': ['transaction_id', 'transaction_timestamp', 'customer_id', 'account_number', 'transaction_type', 'amount', 'currency', 'balance_after', 'status', 'merchant', 'category', 'location', 'ingestion_timestamp', 'source_file', 'batch_id'], 'sample_size': 316, 'column_count': 15, 'null_percentages': {'transaction_id': 2.848101265822785, 'transaction_timestamp': 2.2151898734177213, 'customer_id': 0.949367088607595, 'account_number': 0.949367088607595, 'transaction_type': 2.5316455696202533, 'amount': 1.5822784810126582, 'currency': 1.5822784810126582, 'balance_after': 1.2658227848101267, 'status': 1.2658227848101267, 'merchant': 44.936708860759495, 'category': 44.936708860759495, 'location': 1.2658227848101267, 'ingestion_timestamp': 0.0, 'source_file': 0.0, 'batch_id': 0.0}, 'high_null_columns': {'merchant': 44.936708860759495, 'category': 44.936708860759495}, 'sample_ratio': 0.2, 'timestamp': '2025-04-08T12:47:22.521366'}, 'validation_results': {'validation_results': {'has_transaction_id': {'description': 'Transaction ID must be present', 'failing_count': 9, 'failing_percentage': 2.848101265822785, 'passed': False}, 'valid_amount': {'description': 'Amount must be positive if not null', 'failing_count': 184, 'failing_percentage': 58.22784810126582, 'passed': False}, 'valid_transaction_timestamp': {'description': 'Transaction Timestamp must not be in the future', 'failing_count': 0, 'failing_percentage': 0.0, 'passed': True}}, 'sample_size': 316, 'sample_ratio': 0.2, 'timestamp': '2025-04-08T12:47:24.015499', 'all_passed': False}, 'source_path': 'c:\\\\GitHub\\\\DE_Pipelines\\\\data\\\\financial_transactions.csv', 'duration_seconds': 38.37351989746094}}\n",
      "2025-04-08 12:47:24,016 - INFO - Bronze layer processing completed in 38.37 seconds\n"
     ]
    }
   ],
   "source": [
    "# Generate a unique pipeline ID\n",
    "pipeline_id = f\"financial_pipeline_{datetime.now().strftime('%Y%m%d_%H%M%S')}\"\n",
    "bronze_df, bronze_version = process_batch_bronze_layer(spark, source_path, get_schema(), bronze_path, pipeline_id)"
   ]
  },
  {
   "cell_type": "code",
   "execution_count": 11,
   "metadata": {},
   "outputs": [
    {
     "name": "stdout",
     "output_type": "stream",
     "text": [
      "+--------------+---------------------+-----------+--------------+----------------+-------+--------+-------------+---------+----------+---------+-------------+--------------------+--------------------+--------------------+\n",
      "|transaction_id|transaction_timestamp|customer_id|account_number|transaction_type| amount|currency|balance_after|   status|  merchant| category|     location| ingestion_timestamp|         source_file|            batch_id|\n",
      "+--------------+---------------------+-----------+--------------+----------------+-------+--------+-------------+---------+----------+---------+-------------+--------------------+--------------------+--------------------+\n",
      "|   TXN00000001|  2023-06-05 11:37:36| CUST001040| ACCT-86152351|          refund| 598.65|     USD|      2900.03| disputed|Mastercard|education|   Denver, CO|2025-04-08 12:47:...|file:///c:/GitHub...|financial_pipelin...|\n",
      "|   TXN00000002|  2023-06-04 15:42:51|       NULL| ACCT-52201156|        transfer|-908.13|     USD|      5944.76|completed|      NULL|     NULL|San Diego, CA|2025-04-08 12:47:...|file:///c:/GitHub...|financial_pipelin...|\n",
      "+--------------+---------------------+-----------+--------------+----------------+-------+--------+-------------+---------+----------+---------+-------------+--------------------+--------------------+--------------------+\n",
      "only showing top 2 rows\n",
      "\n"
     ]
    }
   ],
   "source": [
    "bronze_df.show(2)"
   ]
  },
  {
   "cell_type": "code",
   "execution_count": 12,
   "metadata": {},
   "outputs": [
    {
     "name": "stderr",
     "output_type": "stream",
     "text": [
      "2025-04-08 12:47:24,392 - INFO - Starting silver layer processing\n",
      "2025-04-08 12:47:24,504 - INFO - Successfully read bronze data version 11\n",
      "2025-04-08 12:47:36,935 - INFO - Successfully wrote data to silver layer at c:\\GitHub\\DE_Pipelines\\data\\silver\\financial_osb\n",
      "2025-04-08 12:47:37,418 - INFO - Running data quality checks for silver layer\n",
      "2025-04-08 12:47:42,913 - INFO - Data Quality Metrics for silver layer:\n",
      "2025-04-08 12:47:42,914 - INFO -   - Column Count: 19\n",
      "2025-04-08 12:47:42,917 - INFO -   - Columns: ['transaction_id', 'transaction_timestamp', 'customer_id', 'account_number', 'transaction_type', 'amount', 'currency', 'balance_after', 'status', 'merchant', 'category', 'location', 'ingestion_timestamp', 'source_file', 'batch_id', 'transaction_date', 'transaction_time', 'year_month', 'processing_timestamp']\n",
      "2025-04-08 12:47:42,919 - INFO -   - Sample size: 283\n",
      "2025-04-08 12:47:42,921 - WARNING -   - Columns with high null percentages: {'merchant': 42.75618374558304, 'category': 42.40282685512368}\n",
      "2025-04-08 12:47:42,922 - INFO - Validating dataframe with 3 rules\n",
      "2025-04-08 12:47:47,006 - INFO - Validation rule 'valid_transaction_type' FAILED - 117 records (41.34%) failed\n",
      "2025-04-08 12:47:47,239 - INFO - Validation rule 'valid_status' FAILED - 115 records (40.64%) failed\n",
      "2025-04-08 12:47:47,613 - INFO - Validation rule 'valid_currency' PASSED - 0 records (0.00%) failed\n",
      "2025-04-08 12:47:47,618 - INFO - Checkpoint created: {'pipeline_id': 'financial_pipeline_20250408_124645', 'layer': 'silver', 'version': 1, 'timestamp': '2025-04-08T12:47:47.618977', 'metadata': {'quality_metrics': {'layer': 'silver', 'columns': ['transaction_id', 'transaction_timestamp', 'customer_id', 'account_number', 'transaction_type', 'amount', 'currency', 'balance_after', 'status', 'merchant', 'category', 'location', 'ingestion_timestamp', 'source_file', 'batch_id', 'transaction_date', 'transaction_time', 'year_month', 'processing_timestamp'], 'sample_size': 283, 'column_count': 19, 'null_percentages': {'transaction_id': 0.0, 'transaction_timestamp': 2.8268551236749118, 'customer_id': 0.35335689045936397, 'account_number': 1.76678445229682, 'transaction_type': 0.35335689045936397, 'amount': 0.7067137809187279, 'currency': 1.4134275618374559, 'balance_after': 1.4134275618374559, 'status': 0.7067137809187279, 'merchant': 42.75618374558304, 'category': 42.40282685512368, 'location': 1.4134275618374559, 'ingestion_timestamp': 0.0, 'source_file': 0.0, 'batch_id': 0.0, 'transaction_date': 2.8268551236749118, 'transaction_time': 2.8268551236749118, 'year_month': 2.8268551236749118, 'processing_timestamp': 0.0}, 'high_null_columns': {'merchant': 42.75618374558304, 'category': 42.40282685512368}, 'sample_ratio': 0.2, 'timestamp': '2025-04-08T12:47:42.913285'}, 'validation_results': {'validation_results': {'valid_transaction_type': {'description': 'Transaction type must be one of the valid types', 'failing_count': 117, 'failing_percentage': 41.342756183745585, 'passed': False}, 'valid_status': {'description': 'Status must be one of the valid statuses', 'failing_count': 115, 'failing_percentage': 40.63604240282685, 'passed': False}, 'valid_currency': {'description': 'Currency code should be 3 characters if present', 'failing_count': 0, 'failing_percentage': 0.0, 'passed': True}}, 'sample_size': 283, 'sample_ratio': 0.2, 'timestamp': '2025-04-08T12:47:47.618977', 'all_passed': False}, 'source_bronze_version': 11, 'duration_seconds': 23.22332525253296}}\n",
      "2025-04-08 12:47:47,621 - INFO - Silver layer processing completed in 23.23 seconds\n"
     ]
    }
   ],
   "source": [
    "silver_df, silver_version = process_batch_silver_layer(\n",
    "            spark, bronze_path, silver_path, pipeline_id, bronze_version\n",
    "        )"
   ]
  },
  {
   "cell_type": "code",
   "execution_count": 13,
   "metadata": {},
   "outputs": [
    {
     "name": "stdout",
     "output_type": "stream",
     "text": [
      "+--------------+---------------------+-----------+--------------+----------------+------+--------+-------------+--------+----------+---------+--------------+--------------------+--------------------+--------------------+----------------+----------------+----------+--------------------+\n",
      "|transaction_id|transaction_timestamp|customer_id|account_number|transaction_type|amount|currency|balance_after|  status|  merchant| category|      location| ingestion_timestamp|         source_file|            batch_id|transaction_date|transaction_time|year_month|processing_timestamp|\n",
      "+--------------+---------------------+-----------+--------------+----------------+------+--------+-------------+--------+----------+---------+--------------+--------------------+--------------------+--------------------+----------------+----------------+----------+--------------------+\n",
      "|          NULL|  2023-06-28 10:49:34| CUST001192| ACCT-99929834|      WITHDRAWAL|597.32|     USD|      2365.93|DISPUTED|      NULL|     NULL|Fort Worth, TX|2025-04-08 12:47:...|file:///c:/GitHub...|financial_pipelin...|      2023-06-28|        10:49:34|   2023-06|2025-04-08 12:47:...|\n",
      "|   TXN00000001|  2023-06-05 11:37:36| CUST001040| ACCT-86152351|          REFUND|598.65|     USD|      2900.03|DISPUTED|Mastercard|Education|    Denver, CO|2025-04-08 12:47:...|file:///c:/GitHub...|financial_pipelin...|      2023-06-05|        11:37:36|   2023-06|2025-04-08 12:47:...|\n",
      "+--------------+---------------------+-----------+--------------+----------------+------+--------+-------------+--------+----------+---------+--------------+--------------------+--------------------+--------------------+----------------+----------------+----------+--------------------+\n",
      "only showing top 2 rows\n",
      "\n"
     ]
    }
   ],
   "source": [
    "silver_df.show(2)"
   ]
  },
  {
   "cell_type": "code",
   "execution_count": 14,
   "metadata": {},
   "outputs": [
    {
     "name": "stderr",
     "output_type": "stream",
     "text": [
      "2025-04-08 12:47:49,407 - INFO - Starting gold layer processing\n",
      "2025-04-08 12:47:49,447 - INFO - Successfully read silver data version 1\n",
      "2025-04-08 12:47:57,844 - INFO - Successfully wrote gold table daily_category to c:\\GitHub\\DE_Pipelines\\data\\gold\\financial_osb/daily_category\n",
      "2025-04-08 12:47:58,254 - INFO - Running data quality checks for gold_daily_category layer\n",
      "2025-04-08 12:48:02,244 - INFO - Data Quality Metrics for gold_daily_category layer:\n",
      "2025-04-08 12:48:02,245 - INFO -   - Column Count: 9\n",
      "2025-04-08 12:48:02,247 - INFO -   - Columns: ['transaction_date', 'category', 'transaction_count', 'total_amount', 'avg_amount', 'min_amount', 'max_amount', 'unique_customers', 'processing_timestamp']\n",
      "2025-04-08 12:48:02,248 - INFO -   - Sample size: 521\n",
      "2025-04-08 12:48:02,250 - WARNING -   - Columns with high null percentages: {'category': 29.366602687140116}\n",
      "2025-04-08 12:48:02,251 - INFO - Validating dataframe with 2 rules\n",
      "2025-04-08 12:48:06,142 - INFO - Validation rule 'positive_transaction_counts' PASSED - 0 records (0.00%) failed\n",
      "2025-04-08 12:48:06,368 - INFO - Validation rule 'valid_total_amounts' PASSED - 0 records (0.00%) failed\n",
      "2025-04-08 12:48:06,371 - INFO - Checkpoint created: {'pipeline_id': 'financial_pipeline_20250408_124645', 'layer': 'gold_daily_category', 'version': 0, 'timestamp': '2025-04-08T12:48:06.371037', 'metadata': {'quality_metrics': {'layer': 'gold_daily_category', 'columns': ['transaction_date', 'category', 'transaction_count', 'total_amount', 'avg_amount', 'min_amount', 'max_amount', 'unique_customers', 'processing_timestamp'], 'sample_size': 521, 'column_count': 9, 'null_percentages': {'transaction_date': 0.5758157389635317, 'category': 29.366602687140116, 'transaction_count': 0.0, 'total_amount': 1.1516314779270633, 'avg_amount': 1.1516314779270633, 'min_amount': 1.1516314779270633, 'max_amount': 1.1516314779270633, 'unique_customers': 0.0, 'processing_timestamp': 0.0}, 'high_null_columns': {'category': 29.366602687140116}, 'sample_ratio': 0.5, 'timestamp': '2025-04-08T12:48:02.244430'}, 'validation_results': {'validation_results': {'positive_transaction_counts': {'description': 'Transaction counts should be positive', 'failing_count': 0, 'failing_percentage': 0.0, 'passed': True}, 'valid_total_amounts': {'description': 'Total amounts should not be negative', 'failing_count': 0, 'failing_percentage': 0.0, 'passed': True}}, 'sample_size': 521, 'sample_ratio': 0.5, 'timestamp': '2025-04-08T12:48:06.371037', 'all_passed': True}, 'source_silver_version': 1}}\n",
      "2025-04-08 12:48:11,212 - INFO - Successfully wrote gold table customer_summary to c:\\GitHub\\DE_Pipelines\\data\\gold\\financial_osb/customer_summary\n",
      "2025-04-08 12:48:11,513 - INFO - Running data quality checks for gold_customer_summary layer\n",
      "2025-04-08 12:48:20,161 - INFO - Data Quality Metrics for gold_customer_summary layer:\n",
      "2025-04-08 12:48:20,164 - INFO -   - Column Count: 9\n",
      "2025-04-08 12:48:20,166 - INFO -   - Columns: ['customer_id', 'transaction_count', 'total_amount', 'avg_amount', 'first_transaction_date', 'last_transaction_date', 'category_count', 'processing_timestamp', 'days_since_last_transaction']\n",
      "2025-04-08 12:48:20,168 - INFO -   - Sample size: 124\n",
      "2025-04-08 12:48:20,169 - INFO - Validating dataframe with 2 rules\n",
      "2025-04-08 12:48:27,888 - INFO - Validation rule 'positive_transaction_counts' PASSED - 0 records (0.00%) failed\n",
      "2025-04-08 12:48:31,951 - INFO - Validation rule 'valid_total_amounts' PASSED - 0 records (0.00%) failed\n",
      "2025-04-08 12:48:31,958 - INFO - Checkpoint created: {'pipeline_id': 'financial_pipeline_20250408_124645', 'layer': 'gold_customer_summary', 'version': 0, 'timestamp': '2025-04-08T12:48:31.957967', 'metadata': {'quality_metrics': {'layer': 'gold_customer_summary', 'columns': ['customer_id', 'transaction_count', 'total_amount', 'avg_amount', 'first_transaction_date', 'last_transaction_date', 'category_count', 'processing_timestamp', 'days_since_last_transaction'], 'sample_size': 124, 'column_count': 9, 'null_percentages': {'customer_id': 0.8064516129032258, 'transaction_count': 0.0, 'total_amount': 1.6129032258064515, 'avg_amount': 1.6129032258064515, 'first_transaction_date': 0.0, 'last_transaction_date': 0.0, 'category_count': 0.0, 'processing_timestamp': 0.0, 'days_since_last_transaction': 0.0}, 'high_null_columns': {}, 'sample_ratio': 0.5, 'timestamp': '2025-04-08T12:48:20.161145'}, 'validation_results': {'validation_results': {'positive_transaction_counts': {'description': 'Transaction counts should be positive', 'failing_count': 0, 'failing_percentage': 0.0, 'passed': True}, 'valid_total_amounts': {'description': 'Total amounts should not be negative', 'failing_count': 0, 'failing_percentage': 0.0, 'passed': True}}, 'sample_size': 124, 'sample_ratio': 0.5, 'timestamp': '2025-04-08T12:48:31.957967', 'all_passed': True}, 'source_silver_version': 1}}\n",
      "2025-04-08 12:48:35,833 - INFO - Successfully wrote gold table transaction_type_summary to c:\\GitHub\\DE_Pipelines\\data\\gold\\financial_osb/transaction_type_summary\n",
      "2025-04-08 12:48:36,141 - INFO - Running data quality checks for gold_transaction_type_summary layer\n",
      "2025-04-08 12:48:41,630 - INFO - Data Quality Metrics for gold_transaction_type_summary layer:\n",
      "2025-04-08 12:48:41,634 - INFO -   - Column Count: 5\n",
      "2025-04-08 12:48:41,636 - INFO -   - Columns: ['transaction_type', 'transaction_count', 'total_amount', 'avg_amount', 'processing_timestamp']\n",
      "2025-04-08 12:48:41,638 - INFO -   - Sample size: 17\n",
      "2025-04-08 12:48:41,639 - WARNING -   - Columns with high null percentages: {'transaction_type': 5.88235294117647}\n",
      "2025-04-08 12:48:41,642 - INFO - Validating dataframe with 2 rules\n",
      "2025-04-08 12:48:47,610 - INFO - Validation rule 'positive_transaction_counts' PASSED - 0 records (0.00%) failed\n",
      "2025-04-08 12:48:50,756 - INFO - Validation rule 'valid_total_amounts' PASSED - 0 records (0.00%) failed\n",
      "2025-04-08 12:48:50,760 - INFO - Checkpoint created: {'pipeline_id': 'financial_pipeline_20250408_124645', 'layer': 'gold_transaction_type_summary', 'version': 0, 'timestamp': '2025-04-08T12:48:50.760129', 'metadata': {'quality_metrics': {'layer': 'gold_transaction_type_summary', 'columns': ['transaction_type', 'transaction_count', 'total_amount', 'avg_amount', 'processing_timestamp'], 'sample_size': 17, 'column_count': 5, 'null_percentages': {'transaction_type': 5.88235294117647, 'transaction_count': 0.0, 'total_amount': 0.0, 'avg_amount': 0.0, 'processing_timestamp': 0.0}, 'high_null_columns': {'transaction_type': 5.88235294117647}, 'sample_ratio': 0.5, 'timestamp': '2025-04-08T12:48:41.630734'}, 'validation_results': {'validation_results': {'positive_transaction_counts': {'description': 'Transaction counts should be positive', 'failing_count': 0, 'failing_percentage': 0.0, 'passed': True}, 'valid_total_amounts': {'description': 'Total amounts should not be negative', 'failing_count': 0, 'failing_percentage': 0.0, 'passed': True}}, 'sample_size': 17, 'sample_ratio': 0.5, 'timestamp': '2025-04-08T12:48:50.760129', 'all_passed': True}, 'source_silver_version': 1}}\n",
      "2025-04-08 12:48:50,762 - INFO - Gold layer processing completed in 61.35 seconds\n"
     ]
    }
   ],
   "source": [
    "gold_dfs = process_batch_gold_layer(\n",
    "            spark, silver_path, gold_path, pipeline_id, silver_version\n",
    "        )"
   ]
  },
  {
   "cell_type": "code",
   "execution_count": null,
   "metadata": {},
   "outputs": [],
   "source": []
  }
 ],
 "metadata": {
  "kernelspec": {
   "display_name": "base",
   "language": "python",
   "name": "python3"
  },
  "language_info": {
   "codemirror_mode": {
    "name": "ipython",
    "version": 3
   },
   "file_extension": ".py",
   "mimetype": "text/x-python",
   "name": "python",
   "nbconvert_exporter": "python",
   "pygments_lexer": "ipython3",
   "version": "3.9.18"
  }
 },
 "nbformat": 4,
 "nbformat_minor": 2
}
