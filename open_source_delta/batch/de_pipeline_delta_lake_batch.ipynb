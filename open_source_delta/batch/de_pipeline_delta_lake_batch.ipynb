{
 "cells": [
  {
   "cell_type": "markdown",
   "metadata": {},
   "source": [
    "##### Environment Setup"
   ]
  },
  {
   "cell_type": "code",
   "execution_count": 1,
   "metadata": {},
   "outputs": [],
   "source": [
    "\n",
    "import os\n",
    "import sys\n",
    "# Set JAVA env variable\n",
    "os.environ[\"JAVA_HOME\"] = r\"C:\\Program Files\\Eclipse Adoptium\\jdk-11.0.26.4-hotspot\"\n",
    "# Set Hadoop environment variables \n",
    "os.environ['HADOOP_HOME'] = r'C:\\hadoop'\n",
    "os.environ['PATH'] = os.environ['HADOOP_HOME'] + r'\\bin;' + os.environ['PATH']\n",
    "# Set the Python executable path explicitly\n",
    "os.environ['PYSPARK_PYTHON'] = sys.executable\n",
    "os.environ['PYSPARK_DRIVER_PYTHON'] = sys.executable\n",
    "\n",
    "# Get Pipeline Tools Path\n",
    "sys.path.append(R'C:\\GitHub\\Tools\\de')\n"
   ]
  },
  {
   "cell_type": "markdown",
   "metadata": {},
   "source": [
    "##### Libraries"
   ]
  },
  {
   "cell_type": "code",
   "execution_count": 2,
   "metadata": {},
   "outputs": [],
   "source": [
    "import numpy as np\n",
    "import pandas as pd\n",
    "\n",
    "\n",
    "from pyspark.sql import SparkSession\n",
    "from pyspark.sql import functions as F\n",
    "from pyspark.sql.types import (StructType, StructField, StringType, \n",
    "                            DoubleType, IntegerType, TimestampType, \n",
    "                            DateType)\n",
    "from delta.tables import DeltaTable\n",
    "import time\n",
    "import logging\n",
    "import os\n",
    "from datetime import datetime"
   ]
  },
  {
   "cell_type": "code",
   "execution_count": 3,
   "metadata": {},
   "outputs": [],
   "source": [
    "from de_pipeline_tools import *"
   ]
  },
  {
   "cell_type": "markdown",
   "metadata": {},
   "source": [
    "##### Spark Session"
   ]
  },
  {
   "cell_type": "code",
   "execution_count": 4,
   "metadata": {},
   "outputs": [
    {
     "name": "stderr",
     "output_type": "stream",
     "text": [
      "2025-04-08 14:29:10,266 - INFO - ---Spark session initialized with Delta Lake support---\n"
     ]
    }
   ],
   "source": [
    "spark = initialize_spark_delta_lake(\"Financial Data Pipeline\")"
   ]
  },
  {
   "cell_type": "markdown",
   "metadata": {},
   "source": [
    "##### Inputs/Outputs"
   ]
  },
  {
   "cell_type": "code",
   "execution_count": 5,
   "metadata": {},
   "outputs": [],
   "source": [
    "data_dir = \"../../data\"\n",
    "\n",
    "source_path     = f\"{data_dir}/financial_transactions.csv\"\n",
    "bronze_dir      = f\"{data_dir}/bronze/financial_osb\"\n",
    "silver_dir      = f\"{data_dir}/silver/financial_osb\"\n",
    "gold_dir        = f\"{data_dir}/gold/financial_osb\"\n",
    "\n",
    "# Create directories if they don't exist\n",
    "for dir_path in [bronze_dir, silver_dir, gold_dir]:\n",
    "    os.makedirs(dir_path, exist_ok=True)\n",
    "\n",
    "source_path  = os.path.abspath(os.path.join(os.getcwd(), *source_path.split('/')))\n",
    "bronze_path  = os.path.abspath(os.path.join(os.getcwd(), *bronze_dir.split('/')))\n",
    "silver_path  = os.path.abspath(os.path.join(os.getcwd(), *silver_dir.split('/')))\n",
    "gold_path    = os.path.abspath(os.path.join(os.getcwd(), *gold_dir.split('/')))\n"
   ]
  },
  {
   "cell_type": "code",
   "execution_count": 6,
   "metadata": {},
   "outputs": [],
   "source": [
    "def get_schema():\n",
    "    return StructType([\n",
    "        StructField(\"transaction_id\", StringType(), True),\n",
    "        StructField(\"timestamp\", StringType(), True), # need to process as StringType and convert to Timestamp\n",
    "        StructField(\"customer_id\", StringType(), True),\n",
    "        StructField(\"account_number\", StringType(), True),\n",
    "        StructField(\"transaction_type\", StringType(), True),\n",
    "        StructField(\"amount\", DoubleType(), True),\n",
    "        StructField(\"currency\", StringType(), True),\n",
    "        StructField(\"balance_after\", DoubleType(), True),\n",
    "        StructField(\"status\", StringType(), True),\n",
    "        StructField(\"merchant\", StringType(), True),\n",
    "        StructField(\"category\", StringType(), True),\n",
    "        StructField(\"location\", StringType(), True)\n",
    "    ])"
   ]
  },
  {
   "cell_type": "markdown",
   "metadata": {},
   "source": [
    "### Running Full Batch Pipeline"
   ]
  },
  {
   "cell_type": "code",
   "execution_count": 7,
   "metadata": {},
   "outputs": [
    {
     "name": "stderr",
     "output_type": "stream",
     "text": [
      "2025-04-08 14:29:20,924 - INFO - --Starting data pipeline execution with ID: Financial_Data_Pipeline_20250408_142920--\n",
      "2025-04-08 14:29:20,925 - INFO - Starting bronze layer processing for c:\\GitHub\\DE_Pipelines\\data\\financial_transactions.csv\n",
      "2025-04-08 14:29:24,761 - INFO - Successfully read CSV data from c:\\GitHub\\DE_Pipelines\\data\\financial_transactions.csv\n",
      "2025-04-08 14:29:51,663 - INFO - Successfully wrote data to bronze layer at c:\\GitHub\\DE_Pipelines\\data\\bronze\\financial_osb\n",
      "2025-04-08 14:29:53,360 - INFO - Running data quality checks for bronze layer\n",
      "2025-04-08 14:29:54,607 - INFO - Data Quality Metrics for bronze layer:\n",
      "2025-04-08 14:29:54,609 - INFO -   - Column Count: 15\n",
      "2025-04-08 14:29:54,610 - INFO -   - Columns: ['transaction_id', 'transaction_timestamp', 'customer_id', 'account_number', 'transaction_type', 'amount', 'currency', 'balance_after', 'status', 'merchant', 'category', 'location', 'ingestion_timestamp', 'source_file', 'batch_id']\n",
      "2025-04-08 14:29:54,611 - INFO -   - Sample size: 316\n",
      "2025-04-08 14:29:54,612 - WARNING -   - Columns with high null percentages: {'merchant': 44.936708860759495, 'category': 44.936708860759495}\n",
      "2025-04-08 14:29:54,615 - INFO - Validating dataframe with 3 rules\n",
      "2025-04-08 14:29:55,192 - INFO - Validation rule 'has_transaction_id' FAILED - 9 records (2.85%) failed\n",
      "2025-04-08 14:29:55,718 - INFO - Validation rule 'valid_amount' FAILED - 184 records (58.23%) failed\n",
      "2025-04-08 14:29:56,095 - INFO - Validation rule 'valid_transaction_timestamp' PASSED - 0 records (0.00%) failed\n",
      "2025-04-08 14:29:56,100 - INFO - Checkpoint created: {'pipeline_id': 'Financial_Data_Pipeline_20250408_142920', 'layer': 'bronze', 'version': 6, 'timestamp': '2025-04-08T14:29:56.100559', 'metadata': {'quality_metrics': {'layer': 'bronze', 'columns': ['transaction_id', 'transaction_timestamp', 'customer_id', 'account_number', 'transaction_type', 'amount', 'currency', 'balance_after', 'status', 'merchant', 'category', 'location', 'ingestion_timestamp', 'source_file', 'batch_id'], 'sample_size': 316, 'column_count': 15, 'null_percentages': {'transaction_id': 2.848101265822785, 'transaction_timestamp': 2.2151898734177213, 'customer_id': 0.949367088607595, 'account_number': 0.949367088607595, 'transaction_type': 2.5316455696202533, 'amount': 1.5822784810126582, 'currency': 1.5822784810126582, 'balance_after': 1.2658227848101267, 'status': 1.2658227848101267, 'merchant': 44.936708860759495, 'category': 44.936708860759495, 'location': 1.2658227848101267, 'ingestion_timestamp': 0.0, 'source_file': 0.0, 'batch_id': 0.0}, 'high_null_columns': {'merchant': 44.936708860759495, 'category': 44.936708860759495}, 'sample_ratio': 0.2, 'timestamp': '2025-04-08T14:29:54.607274'}, 'validation_results': {'validation_results': {'has_transaction_id': {'description': 'Transaction ID must be present', 'failing_count': 9, 'failing_percentage': 2.848101265822785, 'passed': False}, 'valid_amount': {'description': 'Amount must be positive if not null', 'failing_count': 184, 'failing_percentage': 58.22784810126582, 'passed': False}, 'valid_transaction_timestamp': {'description': 'Transaction Timestamp must not be in the future', 'failing_count': 0, 'failing_percentage': 0.0, 'passed': True}}, 'sample_size': 316, 'sample_ratio': 0.2, 'timestamp': '2025-04-08T14:29:56.099558', 'all_passed': False}, 'source_path': 'c:\\\\GitHub\\\\DE_Pipelines\\\\data\\\\financial_transactions.csv', 'duration_seconds': 35.1735475063324}}\n",
      "2025-04-08 14:29:56,101 - INFO - Bronze layer processing completed in 35.17 seconds\n",
      "2025-04-08 14:29:56,104 - INFO - Starting table optimization\n",
      "2025-04-08 14:29:59,750 - INFO - Optimized c:\\GitHub\\DE_Pipelines\\data\\bronze\\financial_osb. Files: before=1, after=1\n",
      "2025-04-08 14:29:59,752 - INFO - --Bronze layer successfully optimized in 3.65 seconds--\n",
      "2025-04-08 14:29:59,753 - INFO - Starting silver layer processing\n",
      "2025-04-08 14:29:59,817 - INFO - Successfully read bronze data version 6\n",
      "2025-04-08 14:30:12,417 - INFO - Successfully wrote data to silver layer at c:\\GitHub\\DE_Pipelines\\data\\silver\\financial_osb\n",
      "2025-04-08 14:30:12,881 - INFO - Running data quality checks for silver layer\n",
      "2025-04-08 14:30:18,589 - INFO - Data Quality Metrics for silver layer:\n",
      "2025-04-08 14:30:18,592 - INFO -   - Column Count: 19\n",
      "2025-04-08 14:30:18,593 - INFO -   - Columns: ['transaction_id', 'transaction_timestamp', 'customer_id', 'account_number', 'transaction_type', 'amount', 'currency', 'balance_after', 'status', 'merchant', 'category', 'location', 'ingestion_timestamp', 'source_file', 'batch_id', 'transaction_date', 'transaction_time', 'year_month', 'processing_timestamp']\n",
      "2025-04-08 14:30:18,596 - INFO -   - Sample size: 278\n",
      "2025-04-08 14:30:18,597 - WARNING -   - Columns with high null percentages: {'merchant': 43.16546762589928, 'category': 42.805755395683455}\n",
      "2025-04-08 14:30:18,598 - INFO - Validating dataframe with 3 rules\n",
      "2025-04-08 14:30:23,248 - INFO - Validation rule 'valid_transaction_type' FAILED - 113 records (40.65%) failed\n",
      "2025-04-08 14:30:23,491 - INFO - Validation rule 'valid_status' FAILED - 117 records (42.09%) failed\n",
      "2025-04-08 14:30:23,908 - INFO - Validation rule 'valid_currency' PASSED - 0 records (0.00%) failed\n",
      "2025-04-08 14:30:23,915 - INFO - Checkpoint created: {'pipeline_id': 'Financial_Data_Pipeline_20250408_142920', 'layer': 'silver', 'version': 11, 'timestamp': '2025-04-08T14:30:23.915467', 'metadata': {'quality_metrics': {'layer': 'silver', 'columns': ['transaction_id', 'transaction_timestamp', 'customer_id', 'account_number', 'transaction_type', 'amount', 'currency', 'balance_after', 'status', 'merchant', 'category', 'location', 'ingestion_timestamp', 'source_file', 'batch_id', 'transaction_date', 'transaction_time', 'year_month', 'processing_timestamp'], 'sample_size': 278, 'column_count': 19, 'null_percentages': {'transaction_id': 0.0, 'transaction_timestamp': 3.237410071942446, 'customer_id': 0.3597122302158274, 'account_number': 1.4388489208633095, 'transaction_type': 0.3597122302158274, 'amount': 0.0, 'currency': 1.4388489208633095, 'balance_after': 1.4388489208633095, 'status': 1.079136690647482, 'merchant': 43.16546762589928, 'category': 42.805755395683455, 'location': 1.4388489208633095, 'ingestion_timestamp': 0.0, 'source_file': 0.0, 'batch_id': 0.0, 'transaction_date': 3.237410071942446, 'transaction_time': 3.237410071942446, 'year_month': 3.237410071942446, 'processing_timestamp': 0.0}, 'high_null_columns': {'merchant': 43.16546762589928, 'category': 42.805755395683455}, 'sample_ratio': 0.2, 'timestamp': '2025-04-08T14:30:18.589862'}, 'validation_results': {'validation_results': {'valid_transaction_type': {'description': 'Transaction type must be one of the valid types', 'failing_count': 113, 'failing_percentage': 40.647482014388494, 'passed': False}, 'valid_status': {'description': 'Status must be one of the valid statuses', 'failing_count': 117, 'failing_percentage': 42.086330935251794, 'passed': False}, 'valid_currency': {'description': 'Currency code should be 3 characters if present', 'failing_count': 0, 'failing_percentage': 0.0, 'passed': True}}, 'sample_size': 278, 'sample_ratio': 0.2, 'timestamp': '2025-04-08T14:30:23.914466', 'all_passed': False}, 'source_bronze_version': 6, 'duration_seconds': 24.159733295440674}}\n",
      "2025-04-08 14:30:23,917 - INFO - Silver layer processing completed in 24.16 seconds\n",
      "2025-04-08 14:30:23,918 - INFO - Starting table optimization\n",
      "2025-04-08 14:30:36,706 - INFO - Optimized c:\\GitHub\\DE_Pipelines\\data\\silver\\financial_osb. Files: before=13, after=13\n",
      "2025-04-08 14:30:36,708 - INFO - --Silver layer successfully optimized in 12.79 seconds--\n",
      "2025-04-08 14:30:36,710 - INFO - Starting gold layer processing\n",
      "2025-04-08 14:30:36,918 - INFO - Successfully read silver data version 11\n",
      "2025-04-08 14:30:48,993 - INFO - Successfully wrote gold table daily_category to c:\\GitHub\\DE_Pipelines\\data\\gold\\financial_osb/daily_category\n",
      "2025-04-08 14:30:49,418 - INFO - Running data quality checks for gold_daily_category layer\n",
      "2025-04-08 14:30:57,443 - INFO - Data Quality Metrics for gold_daily_category layer:\n",
      "2025-04-08 14:30:57,447 - INFO -   - Column Count: 9\n",
      "2025-04-08 14:30:57,449 - INFO -   - Columns: ['transaction_date', 'category', 'transaction_count', 'total_amount', 'avg_amount', 'min_amount', 'max_amount', 'unique_customers', 'processing_timestamp']\n",
      "2025-04-08 14:30:57,451 - INFO -   - Sample size: 511\n",
      "2025-04-08 14:30:57,452 - WARNING -   - Columns with high null percentages: {'category': 31.115459882583167}\n",
      "2025-04-08 14:30:57,468 - INFO - Validating dataframe with 2 rules\n",
      "2025-04-08 14:31:05,838 - INFO - Validation rule 'positive_transaction_counts' PASSED - 0 records (0.00%) failed\n",
      "2025-04-08 14:31:09,236 - INFO - Validation rule 'valid_total_amounts' PASSED - 0 records (0.00%) failed\n",
      "2025-04-08 14:31:09,240 - INFO - Checkpoint created: {'pipeline_id': 'Financial_Data_Pipeline_20250408_142920', 'layer': 'gold_daily_category', 'version': 5, 'timestamp': '2025-04-08T14:31:09.240192', 'metadata': {'quality_metrics': {'layer': 'gold_daily_category', 'columns': ['transaction_date', 'category', 'transaction_count', 'total_amount', 'avg_amount', 'min_amount', 'max_amount', 'unique_customers', 'processing_timestamp'], 'sample_size': 511, 'column_count': 9, 'null_percentages': {'transaction_date': 0.3913894324853229, 'category': 31.115459882583167, 'transaction_count': 0.0, 'total_amount': 0.0, 'avg_amount': 0.0, 'min_amount': 0.0, 'max_amount': 0.0, 'unique_customers': 0.0, 'processing_timestamp': 0.0}, 'high_null_columns': {'category': 31.115459882583167}, 'sample_ratio': 0.5, 'timestamp': '2025-04-08T14:30:57.443329'}, 'validation_results': {'validation_results': {'positive_transaction_counts': {'description': 'Transaction counts should be positive', 'failing_count': 0, 'failing_percentage': 0.0, 'passed': True}, 'valid_total_amounts': {'description': 'Total amounts should not be negative', 'failing_count': 0, 'failing_percentage': 0.0, 'passed': True}}, 'sample_size': 511, 'sample_ratio': 0.5, 'timestamp': '2025-04-08T14:31:09.240192', 'all_passed': True}, 'source_silver_version': 11}}\n",
      "2025-04-08 14:31:15,751 - INFO - Successfully wrote gold table customer_summary to c:\\GitHub\\DE_Pipelines\\data\\gold\\financial_osb/customer_summary\n",
      "2025-04-08 14:31:16,039 - INFO - Running data quality checks for gold_customer_summary layer\n",
      "2025-04-08 14:31:23,474 - INFO - Data Quality Metrics for gold_customer_summary layer:\n",
      "2025-04-08 14:31:23,476 - INFO -   - Column Count: 9\n",
      "2025-04-08 14:31:23,477 - INFO -   - Columns: ['customer_id', 'transaction_count', 'total_amount', 'avg_amount', 'first_transaction_date', 'last_transaction_date', 'category_count', 'processing_timestamp', 'days_since_last_transaction']\n",
      "2025-04-08 14:31:23,480 - INFO -   - Sample size: 122\n",
      "2025-04-08 14:31:23,481 - INFO - Validating dataframe with 2 rules\n",
      "2025-04-08 14:31:32,104 - INFO - Validation rule 'positive_transaction_counts' PASSED - 0 records (0.00%) failed\n",
      "2025-04-08 14:31:36,058 - INFO - Validation rule 'valid_total_amounts' PASSED - 0 records (0.00%) failed\n",
      "2025-04-08 14:31:36,064 - INFO - Checkpoint created: {'pipeline_id': 'Financial_Data_Pipeline_20250408_142920', 'layer': 'gold_customer_summary', 'version': 5, 'timestamp': '2025-04-08T14:31:36.064363', 'metadata': {'quality_metrics': {'layer': 'gold_customer_summary', 'columns': ['customer_id', 'transaction_count', 'total_amount', 'avg_amount', 'first_transaction_date', 'last_transaction_date', 'category_count', 'processing_timestamp', 'days_since_last_transaction'], 'sample_size': 122, 'column_count': 9, 'null_percentages': {'customer_id': 0.819672131147541, 'transaction_count': 0.0, 'total_amount': 0.0, 'avg_amount': 0.0, 'first_transaction_date': 0.0, 'last_transaction_date': 0.0, 'category_count': 0.0, 'processing_timestamp': 0.0, 'days_since_last_transaction': 0.0}, 'high_null_columns': {}, 'sample_ratio': 0.5, 'timestamp': '2025-04-08T14:31:23.474299'}, 'validation_results': {'validation_results': {'positive_transaction_counts': {'description': 'Transaction counts should be positive', 'failing_count': 0, 'failing_percentage': 0.0, 'passed': True}, 'valid_total_amounts': {'description': 'Total amounts should not be negative', 'failing_count': 0, 'failing_percentage': 0.0, 'passed': True}}, 'sample_size': 122, 'sample_ratio': 0.5, 'timestamp': '2025-04-08T14:31:36.064363', 'all_passed': True}, 'source_silver_version': 11}}\n",
      "2025-04-08 14:31:42,756 - INFO - Successfully wrote gold table transaction_type_summary to c:\\GitHub\\DE_Pipelines\\data\\gold\\financial_osb/transaction_type_summary\n",
      "2025-04-08 14:31:43,063 - INFO - Running data quality checks for gold_transaction_type_summary layer\n",
      "2025-04-08 14:31:49,428 - INFO - Data Quality Metrics for gold_transaction_type_summary layer:\n",
      "2025-04-08 14:31:49,429 - INFO -   - Column Count: 5\n",
      "2025-04-08 14:31:49,431 - INFO -   - Columns: ['transaction_type', 'transaction_count', 'total_amount', 'avg_amount', 'processing_timestamp']\n",
      "2025-04-08 14:31:49,433 - INFO -   - Sample size: 11\n",
      "2025-04-08 14:31:49,434 - WARNING -   - Columns with high null percentages: {'transaction_type': 9.090909090909092}\n",
      "2025-04-08 14:31:49,436 - INFO - Validating dataframe with 2 rules\n",
      "2025-04-08 14:31:55,543 - INFO - Validation rule 'positive_transaction_counts' PASSED - 0 records (0.00%) failed\n",
      "2025-04-08 14:31:59,289 - INFO - Validation rule 'valid_total_amounts' PASSED - 0 records (0.00%) failed\n",
      "2025-04-08 14:31:59,298 - INFO - Checkpoint created: {'pipeline_id': 'Financial_Data_Pipeline_20250408_142920', 'layer': 'gold_transaction_type_summary', 'version': 5, 'timestamp': '2025-04-08T14:31:59.298333', 'metadata': {'quality_metrics': {'layer': 'gold_transaction_type_summary', 'columns': ['transaction_type', 'transaction_count', 'total_amount', 'avg_amount', 'processing_timestamp'], 'sample_size': 11, 'column_count': 5, 'null_percentages': {'transaction_type': 9.090909090909092, 'transaction_count': 0.0, 'total_amount': 0.0, 'avg_amount': 0.0, 'processing_timestamp': 0.0}, 'high_null_columns': {'transaction_type': 9.090909090909092}, 'sample_ratio': 0.5, 'timestamp': '2025-04-08T14:31:49.428331'}, 'validation_results': {'validation_results': {'positive_transaction_counts': {'description': 'Transaction counts should be positive', 'failing_count': 0, 'failing_percentage': 0.0, 'passed': True}, 'valid_total_amounts': {'description': 'Total amounts should not be negative', 'failing_count': 0, 'failing_percentage': 0.0, 'passed': True}}, 'sample_size': 11, 'sample_ratio': 0.5, 'timestamp': '2025-04-08T14:31:59.298333', 'all_passed': True}, 'source_silver_version': 11}}\n",
      "2025-04-08 14:31:59,299 - INFO - Gold layer processing completed in 82.59 seconds\n",
      "2025-04-08 14:31:59,302 - INFO - Starting table optimization\n",
      "2025-04-08 14:32:01,671 - INFO - Optimized c:\\GitHub\\DE_Pipelines\\data\\gold\\financial_osb/daily_category. Files: before=1, after=1\n",
      "2025-04-08 14:32:01,673 - INFO - Starting table optimization\n",
      "2025-04-08 14:32:03,913 - INFO - Optimized c:\\GitHub\\DE_Pipelines\\data\\gold\\financial_osb/customer_summary. Files: before=1, after=1\n",
      "2025-04-08 14:32:03,914 - INFO - Starting table optimization\n",
      "2025-04-08 14:32:05,549 - INFO - Optimized c:\\GitHub\\DE_Pipelines\\data\\gold\\financial_osb/transaction_type_summary. Files: before=1, after=1\n",
      "2025-04-08 14:32:05,550 - INFO - --Gold layer successfully optimized in 6.25 seconds--\n",
      "2025-04-08 14:32:05,552 - INFO - ---Full pipeline execution completed successfully in 164.63 seconds---\n",
      "2025-04-08 14:32:06,782 - INFO - Spark session stopped\n"
     ]
    },
    {
     "data": {
      "text/plain": [
       "{'status': 'success',\n",
       " 'pipeline_id': 'Financial_Data_Pipeline_20250408_142920',\n",
       " 'bronze_version': 6,\n",
       " 'silver_version': 11,\n",
       " 'timestamp': '2025-04-08T14:32:05.554673',\n",
       " 'duration_seconds': 164.62776947021484,\n",
       " 'metrics': {'pipeline_id': 'Financial_Data_Pipeline_20250408_142920',\n",
       "  'start_time': '2025-04-08T14:29:20.924009',\n",
       "  'stages': {'bronze': {'duration_seconds': 35.17924213409424,\n",
       "    'version': 6,\n",
       "    'status': 'success'},\n",
       "   'bronze_optimize': {'layer': 'bronze',\n",
       "    'duration_seconds': 3.6484827995300293,\n",
       "    'status': 'success'},\n",
       "   'silver': {'duration_seconds': 24.164745569229126,\n",
       "    'version': 11,\n",
       "    'status': 'success',\n",
       "    'source_bronze_version': 6},\n",
       "   'silver_optimize': {'layer': 'silver',\n",
       "    'duration_seconds': 12.790331602096558,\n",
       "    'status': 'success'},\n",
       "   'gold': {'duration_seconds': 82.59152293205261,\n",
       "    'status': 'success',\n",
       "    'source_silver_version': 11,\n",
       "    'tables': ['daily_category',\n",
       "     'customer_summary',\n",
       "     'transaction_type_summary']},\n",
       "   'gold_optimize': {'layer': 'gold',\n",
       "    'duration_seconds': 6.248340845108032,\n",
       "    'status': 'success'}},\n",
       "  'status': 'success',\n",
       "  'end_time': '2025-04-08T14:32:05.551779',\n",
       "  'total_duration_seconds': 164.62776947021484}}"
      ]
     },
     "execution_count": 7,
     "metadata": {},
     "output_type": "execute_result"
    }
   ],
   "source": [
    "run_batch_de_pipeline(spark, source_path, bronze_path, get_schema(), silver_path, gold_path, pipeline_name='Financial_Data_Pipeline')"
   ]
  },
  {
   "cell_type": "markdown",
   "metadata": {},
   "source": [
    "### Running Silver in Test Mode\n",
    "##### Simulating: Investigating Validation Check Failures"
   ]
  },
  {
   "cell_type": "code",
   "execution_count": 8,
   "metadata": {},
   "outputs": [
    {
     "name": "stderr",
     "output_type": "stream",
     "text": [
      "2025-04-08 14:32:06,821 - INFO - ---Spark session initialized with Delta Lake support---\n"
     ]
    }
   ],
   "source": [
    "spark = initialize_spark_delta_lake(\"Financial Data Pipeline - Testing\")"
   ]
  },
  {
   "cell_type": "code",
   "execution_count": 9,
   "metadata": {},
   "outputs": [
    {
     "name": "stderr",
     "output_type": "stream",
     "text": [
      "2025-04-08 14:32:08,873 - INFO - Starting silver layer processing\n",
      "2025-04-08 14:32:09,485 - INFO - Successfully read bronze data version 6\n",
      "2025-04-08 14:32:09,594 - WARNING - --- Silver layer in Test Mode ---\n",
      "2025-04-08 14:32:09,596 - INFO - Running data quality checks for silver layer\n",
      "2025-04-08 14:32:16,188 - INFO - Data Quality Metrics for silver layer:\n",
      "2025-04-08 14:32:16,190 - INFO -   - Column Count: 19\n",
      "2025-04-08 14:32:16,191 - INFO -   - Columns: ['transaction_id', 'transaction_timestamp', 'customer_id', 'account_number', 'transaction_type', 'amount', 'currency', 'balance_after', 'status', 'merchant', 'category', 'location', 'ingestion_timestamp', 'source_file', 'batch_id', 'transaction_date', 'transaction_time', 'year_month', 'processing_timestamp']\n",
      "2025-04-08 14:32:16,195 - INFO -   - Sample size: 278\n",
      "2025-04-08 14:32:16,196 - WARNING -   - Columns with high null percentages: {'merchant': 43.16546762589928, 'category': 42.805755395683455}\n",
      "2025-04-08 14:32:16,197 - INFO - Validating dataframe with 3 rules\n",
      "2025-04-08 14:32:19,256 - INFO - Validation rule 'valid_transaction_type' FAILED - 113 records (40.65%) failed\n",
      "2025-04-08 14:32:19,436 - INFO - Validation rule 'valid_status' FAILED - 117 records (42.09%) failed\n",
      "2025-04-08 14:32:19,606 - INFO - Validation rule 'valid_currency' PASSED - 0 records (0.00%) failed\n",
      "2025-04-08 14:32:19,609 - INFO - Checkpoint created: {'pipeline_id': 'test', 'layer': 'silver', 'version': 'test', 'timestamp': '2025-04-08T14:32:19.609598', 'metadata': {'quality_metrics': {'layer': 'silver', 'columns': ['transaction_id', 'transaction_timestamp', 'customer_id', 'account_number', 'transaction_type', 'amount', 'currency', 'balance_after', 'status', 'merchant', 'category', 'location', 'ingestion_timestamp', 'source_file', 'batch_id', 'transaction_date', 'transaction_time', 'year_month', 'processing_timestamp'], 'sample_size': 278, 'column_count': 19, 'null_percentages': {'transaction_id': 0.0, 'transaction_timestamp': 3.237410071942446, 'customer_id': 0.3597122302158274, 'account_number': 1.4388489208633095, 'transaction_type': 0.3597122302158274, 'amount': 0.0, 'currency': 1.4388489208633095, 'balance_after': 1.4388489208633095, 'status': 1.079136690647482, 'merchant': 43.16546762589928, 'category': 42.805755395683455, 'location': 1.4388489208633095, 'ingestion_timestamp': 0.0, 'source_file': 0.0, 'batch_id': 0.0, 'transaction_date': 3.237410071942446, 'transaction_time': 3.237410071942446, 'year_month': 3.237410071942446, 'processing_timestamp': 0.0}, 'high_null_columns': {'merchant': 43.16546762589928, 'category': 42.805755395683455}, 'sample_ratio': 0.2, 'timestamp': '2025-04-08T14:32:16.188867'}, 'validation_results': {'validation_results': {'valid_transaction_type': {'description': 'Transaction type must be one of the valid types', 'failing_count': 113, 'failing_percentage': 40.647482014388494, 'passed': False}, 'valid_status': {'description': 'Status must be one of the valid statuses', 'failing_count': 117, 'failing_percentage': 42.086330935251794, 'passed': False}, 'valid_currency': {'description': 'Currency code should be 3 characters if present', 'failing_count': 0, 'failing_percentage': 0.0, 'passed': True}}, 'sample_size': 278, 'sample_ratio': 0.2, 'timestamp': '2025-04-08T14:32:19.609598', 'all_passed': False}, 'source_bronze_version': 6, 'duration_seconds': 10.73276972770691}}\n",
      "2025-04-08 14:32:19,610 - INFO - Silver layer processing completed in 10.73 seconds\n"
     ]
    }
   ],
   "source": [
    "silverdf, silver_version = process_batch_silver_layer(\n",
    "            spark, bronze_path, silver_path, 'test'\n",
    "        )"
   ]
  },
  {
   "cell_type": "code",
   "execution_count": 10,
   "metadata": {},
   "outputs": [
    {
     "name": "stdout",
     "output_type": "stream",
     "text": [
      "+--------------+---------------------+-----------+--------------+----------------+-------+--------+-------------+---------+--------------------+-------------+-----------------+--------------------+--------------------+--------------------+----------------+----------------+----------+--------------------+\n",
      "|transaction_id|transaction_timestamp|customer_id|account_number|transaction_type| amount|currency|balance_after|   status|            merchant|     category|         location| ingestion_timestamp|         source_file|            batch_id|transaction_date|transaction_time|year_month|processing_timestamp|\n",
      "+--------------+---------------------+-----------+--------------+----------------+-------+--------+-------------+---------+--------------------+-------------+-----------------+--------------------+--------------------+--------------------+----------------+----------------+----------+--------------------+\n",
      "|   TXN00000001|  2023-06-05 11:37:36| CUST001040| ACCT-86152351|          refund| 598.65|     USD|      2900.03| disputed|          Mastercard|    education|       Denver, CO|2025-04-08 14:29:...|file:///c:/GitHub...|Financial_Data_Pi...|      2023-06-05|        11:37:36|   2023-06|2025-04-08 14:32:...|\n",
      "|   TXN00000002|  2023-06-04 15:42:51|       NULL| ACCT-52201156|        transfer| 908.13|     USD|      5944.76|completed|                NULL|         NULL|    San Diego, CA|2025-04-08 14:29:...|file:///c:/GitHub...|Financial_Data_Pi...|      2023-06-04|        15:42:51|   2023-06|2025-04-08 14:32:...|\n",
      "|   TXN00000004|  2023-12-24 11:35:52| CUST001131| ACCT-11671199|        interest|1914.15|     USD|    9847570.0|   failed|                NULL|         NULL| Philadelphia, PA|2025-04-08 14:29:...|file:///c:/GitHub...|Financial_Data_Pi...|      2023-12-24|        11:35:52|   2023-12|2025-04-08 14:32:...|\n",
      "|   TXN00000005|  2023-07-22 11:48:57| CUST001083| ACCT-28353947|        transfer|  54.26|     USD|      2782.02| reversed|                NULL|         NULL| Indianapolis, IN|2025-04-08 14:29:...|file:///c:/GitHub...|Financial_Data_Pi...|      2023-07-22|        11:48:57|   2023-07|2025-04-08 14:32:...|\n",
      "|   TXN00000006|  2023-06-11 21:24:24| CUST001030| ACCT-44590285|         payment|  13.98|     JPY|      6791.13|  pending|         Whole Foods|miscellaneous|      Seattle, WA|2025-04-08 14:29:...|file:///c:/GitHub...|Financial_Data_Pi...|      2023-06-11|        21:24:24|   2023-06|2025-04-08 14:32:...|\n",
      "|   TXN00000007|  2023-01-17 05:08:48| CUST001101| ACCT-90730795|          refund| 987.96|     JPY|     10240.99|  pending|               Chase|    education|      Seattle, WA|2025-04-08 14:29:...|file:///c:/GitHub...|Financial_Data_Pi...|      2023-01-17|        05:08:48|   2023-01|2025-04-08 14:32:...|\n",
      "|   TXN00000008|  2023-05-23 11:07:01| CUST001111| ACCT-17557147|          refund| 427.21|     USD|      6894.45|   failed|         Wells Fargo|miscellaneous|     New York, NY|2025-04-08 14:29:...|file:///c:/GitHub...|Financial_Data_Pi...|      2023-05-23|        11:07:01|   2023-05|2025-04-08 14:32:...|\n",
      "|   TXN00000009|  2023-07-14 07:04:38| CUST001046| ACCT-83615424|      withdrawal| 815.27|     USD|        991.2| reversed|                NULL|         NULL|           Online|2025-04-08 14:29:...|file:///c:/GitHub...|Financial_Data_Pi...|      2023-07-14|        07:04:38|   2023-07|2025-04-08 14:32:...|\n",
      "|   TXN00000010|  2023-07-15 23:09:51| CUST001126| ACCT-83047106|         deposit|  42.19|     JPY|      5304.66|  pending|Direct Deposit - ...|       income|       Austin, TX|2025-04-08 14:29:...|file:///c:/GitHub...|Financial_Data_Pi...|      2023-07-15|        23:09:51|   2023-07|2025-04-08 14:32:...|\n",
      "|   TXN00000011|  2023-08-03 20:35:45| CUST001150| ACCT-33479773|             fee|  27.87|     USD|      1337.29| reversed|     Bank of America|         fees|     New York, NY|2025-04-08 14:29:...|file:///c:/GitHub...|Financial_Data_Pi...|      2023-08-03|        20:35:45|   2023-08|2025-04-08 14:32:...|\n",
      "|   TXN00000012|  2023-07-01 18:41:13| CUST001055| ACCT-35044097|         deposit|1878.51|     JPY|      8657.63| disputed|Direct Deposit - ...|       income|San Francisco, CA|2025-04-08 14:29:...|file:///c:/GitHub...|Financial_Data_Pi...|      2023-07-01|        18:41:13|   2023-07|2025-04-08 14:32:...|\n",
      "|   TXN00000013|  2023-08-23 15:24:30| CUST001194| ACCT-22512969|        interest|1543.06|     JPY|     10069.11| disputed|                NULL|         NULL|       Denver, CO|2025-04-08 14:29:...|file:///c:/GitHub...|Financial_Data_Pi...|      2023-08-23|        15:24:30|   2023-08|2025-04-08 14:32:...|\n",
      "|   TXN00000014|  2023-04-28 04:07:19| CUST001099| ACCT-31107151|        transfer| 313.03|     USD|      7456.38|completed|                NULL|         NULL|       Boston, MA|2025-04-08 14:29:...|file:///c:/GitHub...|Financial_Data_Pi...|      2023-04-28|        04:07:19|   2023-04|2025-04-08 14:32:...|\n",
      "|   TXN00000015|  2023-10-16 06:00:01| CUST001126| ACCT-83047106|      withdrawal| 290.99|     USD|      5013.67| reversed|                NULL|         NULL|    Charlotte, NC|2025-04-08 14:29:...|file:///c:/GitHub...|Financial_Data_Pi...|      2023-10-16|        06:00:01|   2023-10|2025-04-08 14:32:...|\n",
      "|   TXN00000016|  2023-11-11 15:59:15| CUST001108| ACCT-91535049|             fee|  23.17|     AUD|      5614.15| repersed|         Wells Fargo|         fees|     Columbus, OH|2025-04-08 14:29:...|file:///c:/GitHub...|Financial_Data_Pi...|      2023-11-11|        15:59:15|   2023-11|2025-04-08 14:32:...|\n",
      "|   TXN00000017|  2023-04-13 15:09:32| CUST001061| ACCT-13932992|         payment| 890.54|     JPY|       627.86|completed|                PG&E|        taxes|    San Diego, CA|2025-04-08 14:29:...|file:///c:/GitHub...|Financial_Data_Pi...|      2023-04-13|        15:09:32|   2023-04|2025-04-08 14:32:...|\n",
      "|   TXN00000018|  2023-09-13 11:19:37| CUST001156| ACCT-25620070|        interest| 1467.3|     USD|      6543.85|  pending|                NULL|         NULL|       Austin, TX|2025-04-08 14:29:...|file:///c:/GitHub...|Financial_Data_Pi...|      2023-09-13|        11:19:37|   2023-09|2025-04-08 14:32:...|\n",
      "|   TXN00000019|  2023-03-17 17:18:40| CUST001030| ACCT-44590285|             fee|  29.86|     USD|      6761.27|  pending|               Chase|         fees|           Branch|2025-04-08 14:29:...|file:///c:/GitHub...|Financial_Data_Pi...|      2023-03-17|        17:18:40|   2023-03|2025-04-08 14:32:...|\n",
      "|   TXN00000020|  2023-06-04 09:26:20| CUST001019| ACCT-10728926|             fee|  32.78|     USD|         NULL| reversed|     Bank of America|         fees|     Columbus, OH|2025-04-08 14:29:...|file:///c:/GitHub...|Financial_Data_Pi...|      2023-06-04|        09:26:20|   2023-06|2025-04-08 14:32:...|\n",
      "|   TXN00000021|  2023-09-28 08:44:50| CUST001072| ACCT-14938880|        interest|1365.25|     USD|      2376.49| reversed|                NULL|         NULL|       Boston, MA|2025-04-08 14:29:...|file:///c:/GitHub...|Financial_Data_Pi...|      2023-09-28|        08:44:50|   2023-09|2025-04-08 14:32:...|\n",
      "+--------------+---------------------+-----------+--------------+----------------+-------+--------+-------------+---------+--------------------+-------------+-----------------+--------------------+--------------------+--------------------+----------------+----------------+----------+--------------------+\n",
      "only showing top 20 rows\n",
      "\n"
     ]
    }
   ],
   "source": [
    "silverdf.show()"
   ]
  },
  {
   "cell_type": "markdown",
   "metadata": {},
   "source": [
    "Corrupt \"status\" column"
   ]
  },
  {
   "cell_type": "code",
   "execution_count": 11,
   "metadata": {},
   "outputs": [
    {
     "name": "stdout",
     "output_type": "stream",
     "text": [
      "+---------+-----+\n",
      "|   status|count|\n",
      "+---------+-----+\n",
      "|  pendlng|    1|\n",
      "|completed|  264|\n",
      "| dioputed|    1|\n",
      "| dirputed|    1|\n",
      "|completpd|    1|\n",
      "|   failed|  285|\n",
      "|     NULL|   13|\n",
      "|completei|    1|\n",
      "|  pjnding|    1|\n",
      "| oeversed|    1|\n",
      "|  sending|    1|\n",
      "| disiuted|    1|\n",
      "|  pendinz|    1|\n",
      "| repersed|    1|\n",
      "| disptted|    1|\n",
      "|  pendiny|    1|\n",
      "|complethd|    1|\n",
      "|  pending|  269|\n",
      "|   faihed|    1|\n",
      "|  pedding|    1|\n",
      "+---------+-----+\n",
      "only showing top 20 rows\n",
      "\n"
     ]
    }
   ],
   "source": [
    "silverdf.groupBy('status').count().show()"
   ]
  },
  {
   "cell_type": "code",
   "execution_count": null,
   "metadata": {},
   "outputs": [],
   "source": []
  }
 ],
 "metadata": {
  "kernelspec": {
   "display_name": "base",
   "language": "python",
   "name": "python3"
  },
  "language_info": {
   "codemirror_mode": {
    "name": "ipython",
    "version": 3
   },
   "file_extension": ".py",
   "mimetype": "text/x-python",
   "name": "python",
   "nbconvert_exporter": "python",
   "pygments_lexer": "ipython3",
   "version": "3.9.18"
  }
 },
 "nbformat": 4,
 "nbformat_minor": 2
}
